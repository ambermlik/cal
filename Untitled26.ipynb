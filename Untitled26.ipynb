{
 "cells": [
  {
   "cell_type": "code",
   "execution_count": 1,
   "metadata": {},
   "outputs": [
    {
     "name": "stdout",
     "output_type": "stream",
     "text": [
      "batch 1\n",
      "batch 2\n"
     ]
    }
   ],
   "source": [
    "def IoT():\n",
    "    print(\"batch 1\")\n",
    "    print(\"batch 2\")\n",
    "    \n",
    "IoT()\n"
   ]
  },
  {
   "cell_type": "code",
   "execution_count": 8,
   "metadata": {},
   "outputs": [
    {
     "name": "stdout",
     "output_type": "stream",
     "text": [
      "65.0\n"
     ]
    }
   ],
   "source": [
    "def percent_amber():\n",
    "    marks1=50\n",
    "    marks2=67\n",
    "    marks3=78\n",
    "    per=((marks1+marks2+marks3)/300)*100\n",
    "    print(per)\n",
    "    \n",
    "percent_amber()"
   ]
  },
  {
   "cell_type": "code",
   "execution_count": 10,
   "metadata": {},
   "outputs": [],
   "source": [
    "def shop(fruit):\n",
    "    print(\"the name of fruit is\",fruit)\n",
    "    \n",
    "    shop(\"mango\")"
   ]
  },
  {
   "cell_type": "code",
   "execution_count": 13,
   "metadata": {},
   "outputs": [
    {
     "name": "stdout",
     "output_type": "stream",
     "text": [
      "75.33333333333333\n"
     ]
    }
   ],
   "source": [
    "def percent2(marks1,marks2,marks3):\n",
    "    \n",
    "    per1=(marks1+marks2+marks3)/300 *100\n",
    "    print(per1)\n",
    "    \n",
    "percent2(70,87,69)"
   ]
  },
  {
   "cell_type": "code",
   "execution_count": 16,
   "metadata": {},
   "outputs": [
    {
     "name": "stdout",
     "output_type": "stream",
     "text": [
      "20\n"
     ]
    }
   ],
   "source": [
    "def multiply(no1,no2):\n",
    "    multi1=(no1*no2)\n",
    "    print(multi1)\n",
    "    \n",
    "multiply(4,5)\n",
    "    \n",
    "    "
   ]
  },
  {
   "cell_type": "code",
   "execution_count": 11,
   "metadata": {},
   "outputs": [
    {
     "name": "stdout",
     "output_type": "stream",
     "text": [
      "4\n"
     ]
    }
   ],
   "source": [
    "def square(num):\n",
    "    squ1=(num*num)\n",
    "    print(squ1)\n",
    "\n",
    "square(2)"
   ]
  },
  {
   "cell_type": "code",
   "execution_count": 14,
   "metadata": {},
   "outputs": [
    {
     "name": "stdout",
     "output_type": "stream",
     "text": [
      "69.33333333333334\n",
      "(69.33333333333334, 67, 80, 70)\n"
     ]
    }
   ],
   "source": [
    "def percent2(marks1,marks2,marks3):\n",
    "    \n",
    "    per1=(marks1+marks2+marks3)/300*100\n",
    "    per2=67\n",
    "    per3=80\n",
    "    per4=70\n",
    "    \n",
    "    print(per1)\n",
    "    return per1,per2,per3,per4\n",
    "\n",
    "a=percent2(60,70,78)\n",
    "print(a)\n",
    "    "
   ]
  },
  {
   "cell_type": "code",
   "execution_count": 21,
   "metadata": {},
   "outputs": [
    {
     "name": "stdout",
     "output_type": "stream",
     "text": [
      "20\n",
      "20\n",
      "55\n",
      "55\n",
      "1100\n",
      "1100\n"
     ]
    }
   ],
   "source": [
    "def sum(num1,num2):\n",
    "    \n",
    "    sum1=(num1+num2)\n",
    "    \n",
    "    print(sum1)\n",
    "    return sum1\n",
    "\n",
    "a=sum(15,5)\n",
    "print(a)\n",
    "      \n",
    "    \n",
    "def sum(num1,num2):\n",
    "    \n",
    "    sum2=(num1-num2)\n",
    "    \n",
    "    print(sum2)\n",
    "    return sum2\n",
    "\n",
    "b=sum(60,5)\n",
    "print(b)\n",
    "\n",
    "def sum(a,b):\n",
    "    \n",
    "    sum3=(a*b)\n",
    "    \n",
    "    print(sum3)\n",
    "    return sum3\n",
    "\n",
    "c=sum(a,b)\n",
    "print(c)    "
   ]
  },
  {
   "cell_type": "code",
   "execution_count": 14,
   "metadata": {},
   "outputs": [
    {
     "name": "stdout",
     "output_type": "stream",
     "text": [
      "20\n",
      "10\n",
      "75\n",
      "3.0\n",
      "0\n"
     ]
    }
   ],
   "source": [
    "def addition(num1,num2):\n",
    "    result =num1+num2\n",
    "    return result\n",
    "\n",
    "num1 = 15\n",
    "num2 = 5\n",
    "value1 = addition(num1,num2)\n",
    "print(value1)\n",
    "\n",
    "def substraction(num3,num4):\n",
    "    result =num3-num4\n",
    "    return result\n",
    "\n",
    "num3 = 15\n",
    "num4 = 5\n",
    "value2 = substraction(num3,num4)\n",
    "print(value2)\n",
    "\n",
    "def multiply(num5,num6):\n",
    "    result =num5*num6\n",
    "    return result\n",
    "\n",
    "num5 =15\n",
    "num6 =5\n",
    "value3 = multiply(num5,num6)\n",
    "print(value3)\n",
    "\n",
    "def division(num7,num8):\n",
    "    result =num7/num8\n",
    "    return result\n",
    "\n",
    "num7 =15\n",
    "num8=5\n",
    "value4 =division(num7,num8)\n",
    "print(value4)\n",
    "\n",
    "def percent(num9,num10):\n",
    "    result =num9%num10\n",
    "    return result\n",
    "\n",
    "num9 =15\n",
    "num10 =5\n",
    "value5 =percent(num9,num10)\n",
    "print(value5)"
   ]
  },
  {
   "cell_type": "code",
   "execution_count": null,
   "metadata": {},
   "outputs": [],
   "source": []
  },
  {
   "cell_type": "code",
   "execution_count": null,
   "metadata": {},
   "outputs": [],
   "source": []
  }
 ],
 "metadata": {
  "kernelspec": {
   "display_name": "Python 3",
   "language": "python",
   "name": "python3"
  },
  "language_info": {
   "codemirror_mode": {
    "name": "ipython",
    "version": 3
   },
   "file_extension": ".py",
   "mimetype": "text/x-python",
   "name": "python",
   "nbconvert_exporter": "python",
   "pygments_lexer": "ipython3",
   "version": "3.7.4"
  }
 },
 "nbformat": 4,
 "nbformat_minor": 2
}
